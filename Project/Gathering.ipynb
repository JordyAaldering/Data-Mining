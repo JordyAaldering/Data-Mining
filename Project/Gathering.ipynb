{
 "cells": [
  {
   "cell_type": "code",
   "execution_count": 1,
   "metadata": {},
   "outputs": [],
   "source": [
    "import os, json, requests\n",
    "from jellyfish import levenshtein_distance, hamming_distance, jaro_distance, jaro_winkler"
   ]
  },
  {
   "cell_type": "code",
   "execution_count": 2,
   "metadata": {},
   "outputs": [],
   "source": [
    "key    = 'EE44CC2E8EDE2A1288B72CA1D41D0462'\n",
    "url_fl = 'http://api.steampowered.com/ISteamUser/GetFriendList/v0001/?key={0}&steamid={1}'\n",
    "url_sm = 'http://api.steampowered.com/ISteamUser/GetPlayerSummaries/v0002/?key={0}&steamids={1}'\n",
    "url_og = 'http://api.steampowered.com/IPlayerService/GetOwnedGames/v0001/?key={0}&steamid={1}'\n",
    "url_ac = 'http://api.steampowered.com/ISteamUserStats/GetPlayerAchievements/v0001/?appid={0}&key={1}&steamid={2}'\n",
    "url_bn = 'http://api.steampowered.com/ISteamUser/GetPlayerBans/v1/?key={0}&steamids={1}'\n",
    "url_lo = 'http://api.steampowered.com/ISteamUser/GetPlayerSummaries/v0002/?key={0}&steamids={1}'"
   ]
  },
  {
   "cell_type": "markdown",
   "metadata": {},
   "source": [
    "___"
   ]
  },
  {
   "cell_type": "code",
   "execution_count": 3,
   "metadata": {},
   "outputs": [],
   "source": [
    "def LenFriendList(sid):\n",
    "    url  = url_fl.format(key, sid)\n",
    "    resp = requests.get(url)\n",
    "    data = json.loads(resp.content)\n",
    "    \n",
    "    try:\n",
    "        return len(data['friendslist']['friends'])\n",
    "    except:\n",
    "        return -1"
   ]
  },
  {
   "cell_type": "code",
   "execution_count": 4,
   "metadata": {
    "scrolled": true
   },
   "outputs": [
    {
     "name": "stdout",
     "output_type": "stream",
     "text": [
      "Reading ids.txt\n",
      "Reading friends.txt\n",
      "Getting friend lists.\n",
      "Done getting friends!\n",
      "Writing to friends.txt\n"
     ]
    }
   ],
   "source": [
    "print('Reading ids.txt')\n",
    "with open('Data/ids.txt', 'r') as f:\n",
    "    ids = eval(f.read())\n",
    "\n",
    "print('Reading friends.txt')\n",
    "with open('Data/friends.txt', 'r') as f:\n",
    "    lfls = eval(f.read())\n",
    "\n",
    "done = len(lfls)\n",
    "print('Getting friend lists.')\n",
    "try:\n",
    "    for idx, sid in enumerate(ids):\n",
    "        if idx >= done:\n",
    "            lfl = LenFriendList(sid)\n",
    "            lfls.append(lfl)\n",
    "            print(idx, lfl)\n",
    "    else:\n",
    "        print('Done getting friends!')\n",
    "finally:\n",
    "    print('Writing to friends.txt')\n",
    "    with open('Data/friends.txt', 'w') as f:\n",
    "        f.write(repr(lfls))"
   ]
  },
  {
   "cell_type": "markdown",
   "metadata": {},
   "source": [
    "___"
   ]
  },
  {
   "cell_type": "code",
   "execution_count": 5,
   "metadata": {},
   "outputs": [],
   "source": [
    "def GetNames(sid):\n",
    "    rn, pn = u'', u''\n",
    "    \n",
    "    try:\n",
    "        url  = url_sm.format(key, sid)\n",
    "        resp = requests.get(url)\n",
    "        data = json.loads(resp.content)\n",
    "\n",
    "        player = data['response']['players'][0]\n",
    "        pn = player['personaname']\n",
    "        rn = player['realname']\n",
    "    finally:\n",
    "        return rn, pn"
   ]
  },
  {
   "cell_type": "code",
   "execution_count": 6,
   "metadata": {},
   "outputs": [],
   "source": [
    "def GetDistances(rn, pn):\n",
    "    dl, dh, dj, jw = -1, -1, -1, -1\n",
    "    \n",
    "    try:\n",
    "        dl = levenshtein_distance(rn, pn)\n",
    "        dh = hamming_distance(rn, pn)\n",
    "        dj = jaro_distance(rn, pn)\n",
    "        jw = jaro_winkler(rn, pn)\n",
    "    finally:\n",
    "        return dl, dh, dj, jw"
   ]
  },
  {
   "cell_type": "code",
   "execution_count": 7,
   "metadata": {
    "scrolled": true
   },
   "outputs": [
    {
     "name": "stdout",
     "output_type": "stream",
     "text": [
      "Reading ids.txt\n",
      "Reading names.txt\n",
      "Getting names.\n",
      "Done getting names!\n",
      "Writing to names.txt\n"
     ]
    }
   ],
   "source": [
    "print('Reading ids.txt')\n",
    "with open('Data/ids.txt', 'r') as f:\n",
    "    ids = eval(f.read())\n",
    "\n",
    "print('Reading names.txt')\n",
    "with open('Data/names.txt', 'r') as f:\n",
    "    names = eval(f.read())\n",
    "\n",
    "done  = len(names)\n",
    "print('Getting names.')\n",
    "try:\n",
    "    for idx, sid in enumerate(ids):\n",
    "        if idx >= done:\n",
    "            rn, pn = GetNames(sid)\n",
    "            dl, dh, dj, jw = GetDistances(rn, pn)\n",
    "            names.append((rn, pn, dl, dh, dj, jw))\n",
    "            print(idx, rn, pn)\n",
    "    else:\n",
    "        print('Done getting names!')\n",
    "finally:\n",
    "    print('Writing to names.txt')\n",
    "    with open('Data/names.txt', 'w') as f:\n",
    "        f.write(repr(names))"
   ]
  },
  {
   "cell_type": "markdown",
   "metadata": {},
   "source": [
    "___"
   ]
  },
  {
   "cell_type": "code",
   "execution_count": 8,
   "metadata": {},
   "outputs": [],
   "source": [
    "def GetGames(sid):\n",
    "    try:\n",
    "        url  = url_og.format(key, sid)\n",
    "        resp = requests.get(url)\n",
    "        data = json.loads(resp.content)\n",
    "        \n",
    "        games = []\n",
    "        for game in data['response']['games']:\n",
    "            games.append((game['appid'], game['playtime_forever']))\n",
    "        games.sort(key=lambda x: x[0])\n",
    "    finally:\n",
    "        return games"
   ]
  },
  {
   "cell_type": "code",
   "execution_count": 9,
   "metadata": {
    "scrolled": true
   },
   "outputs": [
    {
     "name": "stdout",
     "output_type": "stream",
     "text": [
      "Reading ids.txt\n",
      "Reading games.txt\n",
      "Getting games.\n",
      "Done getting games!\n",
      "Writing to games.txt\n"
     ]
    }
   ],
   "source": [
    "print('Reading ids.txt')\n",
    "with open('Data/ids.txt', 'r') as f:\n",
    "    ids = eval(f.read())\n",
    "\n",
    "print('Reading games.txt')\n",
    "with open('Data/games.txt', 'r') as f:\n",
    "    games = eval(f.read())\n",
    "\n",
    "done  = len(games)\n",
    "print('Getting games.')\n",
    "try:\n",
    "    for idx, sid in enumerate(ids):\n",
    "        if idx >= done:\n",
    "            og = GetGames(sid)\n",
    "            games.append(og)\n",
    "            print(idx, len(og))\n",
    "    else:\n",
    "        print('Done getting games!')\n",
    "finally:\n",
    "    print('Writing to games.txt')\n",
    "    with open('Data/games.txt', 'w') as f:\n",
    "        f.write(repr(games))"
   ]
  },
  {
   "cell_type": "markdown",
   "metadata": {},
   "source": [
    "___"
   ]
  },
  {
   "cell_type": "code",
   "execution_count": 10,
   "metadata": {},
   "outputs": [],
   "source": [
    "def GetAchievements(appid, sid):\n",
    "    try:\n",
    "        url  = url_ac.format(appid, key, sid)\n",
    "        resp = requests.get(url)\n",
    "        data = json.loads(resp.content)\n",
    "        \n",
    "        return data['playerstats']['achievements']\n",
    "    except:\n",
    "        return -1"
   ]
  },
  {
   "cell_type": "code",
   "execution_count": 11,
   "metadata": {},
   "outputs": [
    {
     "name": "stdout",
     "output_type": "stream",
     "text": [
      "Reading ids.txt\n",
      "Reading games.txt\n",
      "Reading achievements.txt\n",
      "Getting achievements.\n",
      "Done getting achievements!\n",
      "Writing to achievements.txt\n"
     ]
    }
   ],
   "source": [
    "print('Reading ids.txt')\n",
    "with open('Data/ids.txt', 'r') as f:\n",
    "    ids = eval(f.read())\n",
    "\n",
    "print('Reading games.txt')\n",
    "with open('Data/games.txt', 'r') as f:\n",
    "    gamess = eval(f.read())\n",
    "\n",
    "print('Reading achievements.txt')\n",
    "with open('Data/achievements.txt', 'r') as f:\n",
    "    achieves = eval(f.read())\n",
    "\n",
    "done = len(achieves)\n",
    "print('Getting achievements.')\n",
    "try:\n",
    "    for idx, (sid, games) in enumerate(zip(ids, gamess)):\n",
    "        if idx >= done:\n",
    "            amount, gotten, total = (len(games), 0, 0)\n",
    "            print(idx, amount)\n",
    "            \n",
    "            for game in games:\n",
    "                achievements = GetAchievements(game[0], sid)\n",
    "                if achievements != -1:\n",
    "                    for a in achievements:\n",
    "                        gotten += a['achieved']\n",
    "                    total += len(achievements)\n",
    "\n",
    "            achieves.append((amount, gotten, total))\n",
    "    else:\n",
    "        print('Done getting achievements!')\n",
    "finally:\n",
    "    print('Writing to achievements.txt')\n",
    "    with open('Data/achievements.txt', 'w') as f:\n",
    "        f.write(repr(achieves))"
   ]
  },
  {
   "cell_type": "markdown",
   "metadata": {},
   "source": [
    "___"
   ]
  },
  {
   "cell_type": "code",
   "execution_count": 12,
   "metadata": {},
   "outputs": [],
   "source": [
    "def GetBans(sid):\n",
    "    try:\n",
    "        url  = url_bn.format(key, sid)\n",
    "        resp = requests.get(url)\n",
    "        data = json.loads(response.content)\n",
    "        \n",
    "        player = json_obj['players'][0]\n",
    "        return player['NumberOfVACBans'], player['DaysSinceLastBan'], player['NumberOfGameBans']\n",
    "    except:\n",
    "        return -1, -1, -1"
   ]
  },
  {
   "cell_type": "code",
   "execution_count": 13,
   "metadata": {},
   "outputs": [
    {
     "name": "stdout",
     "output_type": "stream",
     "text": [
      "Reading ids.txt\n",
      "Reading bans.txt\n",
      "Getting bans.\n",
      "Done getting bans!\n",
      "Writing to bans.txt\n"
     ]
    }
   ],
   "source": [
    "print('Reading ids.txt')\n",
    "with open('Data/ids.txt', 'r') as f:\n",
    "    ids = eval(f.read())\n",
    "\n",
    "print('Reading bans.txt')\n",
    "with open('Data/bans.txt', 'r') as f:\n",
    "    bans = eval(f.read())\n",
    "\n",
    "done = len(bans)\n",
    "print('Getting bans.')\n",
    "try:\n",
    "    for idx, sid in enumerate(ids):\n",
    "        if idx >= done:\n",
    "            tuple_bans = GetBans(sid)\n",
    "            bans.append(tuple_bans)\n",
    "            print(idx, tuple_bans[1])\n",
    "    else:\n",
    "        print('Done getting bans!')\n",
    "finally:\n",
    "    print('Writing to bans.txt')\n",
    "    with open('Data/bans.txt', 'w') as f:\n",
    "        f.write(repr(bans))"
   ]
  },
  {
   "cell_type": "markdown",
   "metadata": {},
   "source": [
    "___"
   ]
  },
  {
   "cell_type": "code",
   "execution_count": 14,
   "metadata": {},
   "outputs": [],
   "source": [
    "def GetLastlogoff(sid):\n",
    "    url  = url_lo.format(key, sid)\n",
    "    resp = requests.get(url)\n",
    "    data = json.loads(resp.content)\n",
    "        \n",
    "    return data['response']['players'][0]['lastlogoff']"
   ]
  },
  {
   "cell_type": "code",
   "execution_count": 15,
   "metadata": {
    "scrolled": true
   },
   "outputs": [
    {
     "name": "stdout",
     "output_type": "stream",
     "text": [
      "Reading ids.txt\n",
      "Reading lastlogoff.txt\n",
      "Getting lastlogoff.\n",
      "Done getting lastlogoff!\n",
      "Writing to lastlogoff.txt\n"
     ]
    }
   ],
   "source": [
    "print('Reading ids.txt')\n",
    "with open('Data/ids.txt', 'r') as f:\n",
    "    ids = eval(f.read())\n",
    "\n",
    "print('Reading lastlogoff.txt')\n",
    "with open('Data/lastlogoff.txt', 'r') as f:\n",
    "    lastlogoff = eval(f.read())\n",
    "\n",
    "done = len(lastlogoff)\n",
    "print('Getting lastlogoff.')\n",
    "try:\n",
    "    for idx, sid in enumerate(ids):\n",
    "        if idx >= done:\n",
    "            llo = GetLastlogoff(sid)\n",
    "            lastlogoff.append(llo)\n",
    "            print(idx, llo)\n",
    "    else:\n",
    "        print('Done getting lastlogoff!')\n",
    "finally:\n",
    "    print('Writing to lastlogoff.txt')\n",
    "    with open('Data/lastlogoff.txt', 'w') as f:\n",
    "        f.write(repr(lastlogoff))"
   ]
  }
 ],
 "metadata": {
  "kernelspec": {
   "display_name": "Python 3",
   "language": "python",
   "name": "python3"
  },
  "language_info": {
   "codemirror_mode": {
    "name": "ipython",
    "version": 3
   },
   "file_extension": ".py",
   "mimetype": "text/x-python",
   "name": "python",
   "nbconvert_exporter": "python",
   "pygments_lexer": "ipython3",
   "version": "3.6.7"
  }
 },
 "nbformat": 4,
 "nbformat_minor": 2
}
