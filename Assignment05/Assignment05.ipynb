{
 "cells": [
  {
   "cell_type": "markdown",
   "metadata": {},
   "source": [
    "# Assignment 5: Association mining\n",
    "\n",
    "## Objective of this assignment\n",
    "The overall objective is to understand how frequent itemsets can be extracted by\n",
    "the Apriori algorithm and be able to calculate and interpret association rules in terms of support and confidence.\n",
    "\n",
    "## ** Important: ** When handing in your homework:\n",
    "+ Hand in the notebook (and nothing else) named as follows: StudentName1_snumber_StudentName2_snumber.ipynb\n",
    "+ Provide clear and complete answers to the questions below under a separate header (not hidden somewhere in your source code), and make sure to explain your answers / motivate your choices. Add Markdown cells where necessary.\n",
    "+ Source code, output graphs, derivations, etc., should be included in the notebook.\n",
    "+ Hand-in: upload to Blackboard.\n",
    "+ Include name, student number, assignment (especially in filenames)!\n",
    "+ When working in pairs only one of you should upload the assignment, and report the name of your partner in your filename.\n",
    "+ For problems or questions: use the BB discussion board or email the student assistants.\n",
    "\n",
    "\n",
    "## Advised Reading and Exercise Material\n",
    "**The following reading material is recommended:**\n",
    "\n",
    "- Pang-Ning Tan, Michael Steinbach, and Vipin Kumar, *Introduction to Data Mining*, section 6.\n",
    "\n",
    "\n",
    "## Additional Tools\n",
    "For this exercise you will need to load the provided *apriorimining.py* script. \n",
    "\n",
    "\n",
    "##  5.1 Association mining for course data \n",
    "We will use the Apriori algorithm to automatically mine for associations. The Apriori algorithm is an adapted version of the script found here: https://github.com/nalinaksh/Association-Rule-Mining-Python\n",
    "\n",
    "Check out the script and doc and check if you understand how the association rules are computed. \n",
    "\n"
   ]
  },
  {
   "cell_type": "code",
   "execution_count": 1,
   "metadata": {},
   "outputs": [],
   "source": [
    "from Toolbox.apriorimining import generate_association_rules"
   ]
  },
  {
   "cell_type": "markdown",
   "metadata": {},
   "source": [
    "\n",
    "#### 5.1.1\n",
    "\n",
    "(0 points) Look at the data file `Data/courses.txt` into Python. The data is represented in Table 1. Inspect the file Data/courses.txt and make sure you understand how the data in Table 1 is stored in the text file.\n",
    "\n",
    "##### Table 1\n",
    "|#  |   History |Math| Biology| Spanish | Economics| Physics | Chemistry | English  |  \n",
    "| :-------------: |:-------------:| :-----------:| :----------:| :------------:|:-------------:| :------------:|  :-------------: | :-------------: |\n",
    "|student 1 | 0| 1 | 0 | 0 | 1| 1 |1 |1   \n",
    "|student 2 | 1| 1 | 1 | 0 | 0| 1 |1 |1   \n",
    "|student 3 | 0| 1 | 0 | 1 | 0| 1 |0 |1   \n",
    "|student 4 | 0| 0 | 1 | 0 | 0| 1 |1 |0   \n",
    "|student 5 | 0| 1 | 0 | 0 | 0| 1 |1 |0        \n",
    "|student 6 | 0| 1 | 1 | 0 | 0| 1 |1 |1   \n"
   ]
  },
  {
   "cell_type": "markdown",
   "metadata": {},
   "source": [
    "#### 5.1.2\n",
    "(1 point) We will analyze the data in Table 1 automatically using the function `apriorimining.generate_association_rules()` from the script. Analyze the data with $ minsupport  \\geq 80 \\% $ and $ minconfidence \\geq 100 \\%$.What\n",
    "are the generated association rules? What kind of conclusions can you make based on these association rules about the subjects that students took?  \n",
    "  \n"
   ]
  },
  {
   "cell_type": "code",
   "execution_count": 2,
   "metadata": {
    "scrolled": false
   },
   "outputs": [
    {
     "name": "stdout",
     "output_type": "stream",
     "text": [
      "Please enter support value in %: 80\n",
      "Please enter confidence value in %: 100\n",
      "Enter the max number of rules you want to see (enter 0 to see all rules): 0\n",
      "Please enter filepath\\filename and extension: 'Data/courses.txt'\n",
      "---------------TOP 10 FREQUENT 1-ITEMSET-------------------------\n",
      "set= { 6 },  sup= 100.0\n",
      "set= { 2 },  sup= 83.33\n",
      "set= { 7 },  sup= 83.33\n",
      "-----------------------------------------------------------------\n",
      "-------TOP 10 (or less) FREQUENT 2-ITEMSET------------------------\n",
      "set= { 2, 6 },  sup= 83.0\n",
      "set= { 6, 7 },  sup= 83.0\n",
      "------------------------------------------------------------------\n",
      "---------------------ASSOCIATION RULES------------------\n",
      "--------------------------------------------------------\n",
      "Rule #1: {  } ==> { 6 }, sup= 100.00, conf= 100.00\n",
      "\n",
      "Rule #2: { 2 } ==> { 6 }, sup= 83.33, conf= 100.00\n",
      "\n",
      "Rule #3: { 7 } ==> { 6 }, sup= 83.33, conf= 100.00\n",
      "--------------------------------------------------------\n"
     ]
    }
   ],
   "source": [
    "generate_association_rules()"
   ]
  },
  {
   "cell_type": "markdown",
   "metadata": {},
   "source": [
    "From these generated association rules we can conclude that everyone follows course six (physics) and that almost everyone follows course two and seven (math and chemistry respectively). Also we can see that almost everyone who follows math also follows physics and almost everyone who follows chemistry also follows physics. Though this makes total sense since these are the courses almost everyone follows anyways."
   ]
  },
  {
   "cell_type": "markdown",
   "metadata": {},
   "source": [
    "  ##  5.2 Association mining for MovieLens data \n",
    "  \n",
    "  \n",
    "  In this part of the exercise we consider a Market Basket data set containing 943 users purchases of 1682 movies. A total of 100,000 movies\n",
    "have been purchased.The data set is called MovieLens100K and is provided by http://www.grouplens.org/node/73, see also the readme `MovieLensData.txt` in the data folder. The data currently considered is not the original data but modified for the apriori algorithm.\n",
    "\n",
    "#### 5.2.1\n",
    "  (0 points) The MovieLens data is stored in the file MovieLensData.txt. Inspect the file to see how the data is stored.\n",
    "\n",
    "\n",
    "#### 5.2.2 \n",
    "  (1 point) Find association rules using the function below with $ minsupport  \\geq 30 \\% $ and $ minconfidence \\geq 80 \\%$. What are the associations with strongest confidence? Do these associations make sense? The script can use file Data/u.item to print the movie titles in stead of numbers. If you enter filename `MovieLensData.txt`, the script will provide an additional option for this. \n",
    "  "
   ]
  },
  {
   "cell_type": "code",
   "execution_count": 4,
   "metadata": {
    "scrolled": false
   },
   "outputs": [
    {
     "name": "stdout",
     "output_type": "stream",
     "text": [
      "Please enter support value in %: 30\n",
      "Please enter confidence value in %: 80\n",
      "Enter the max number of rules you want to see (enter 0 to see all rules): 0\n",
      "Please enter filepath\\filename and extension: 'Data/MovieLensData.txt'\n",
      "Do you want to print sets and rules with Movie names in stead of numbers? [y/n]: 'y'\n",
      "---------------TOP 10 FREQUENT 1-ITEMSET-------------------------\n",
      "set= { Star Wars (1977) },  sup= 61.82\n",
      "set= { Contact (1997) },  sup= 53.98\n",
      "set= { Fargo (1996) },  sup= 53.87\n",
      "set= { Return of the Jedi (1983) },  sup= 53.76\n",
      "set= { Liar Liar (1997) },  sup= 51.43\n",
      "set= { English Patient, The (1996) },  sup= 51.01\n",
      "set= { Scream (1996) },  sup= 50.69\n",
      "set= { Toy Story (1995) },  sup= 47.93\n",
      "set= { Air Force One (1997) },  sup= 45.71\n",
      "set= { Independence Day (ID4) (1996) },  sup= 45.49\n",
      "-----------------------------------------------------------------\n",
      "-------TOP 10 (or less) FREQUENT 2-ITEMSET------------------------\n",
      "set= { Return of the Jedi (1983), Star Wars (1977) },  sup= 50.0\n",
      "set= { Fargo (1996), Star Wars (1977) },  sup= 41.0\n",
      "set= { Star Wars (1977), Toy Story (1995) },  sup= 40.0\n",
      "set= { Raiders of the Lost Ark (1981), Star Wars (1977) },  sup= 40.0\n",
      "set= { Independence Day (ID4) (1996), Star Wars (1977) },  sup= 38.0\n",
      "set= { Godfather, The (1972), Star Wars (1977) },  sup= 37.0\n",
      "set= { Empire Strikes Back, The (1980), Star Wars (1977) },  sup= 36.0\n",
      "set= { Return of the Jedi (1983), Toy Story (1995) },  sup= 36.0\n",
      "set= { Fargo (1996), Return of the Jedi (1983) },  sup= 36.0\n",
      "set= { Raiders of the Lost Ark (1981), Return of the Jedi (1983) },  sup= 36.0\n",
      "------------------------------------------------------------------\n",
      "-------TOP 10 (or less) FREQUENT 3-ITEMSET------------------------\n",
      "set= { Return of the Jedi (1983), Star Wars (1977), Toy Story (1995) },  sup= 35.0\n",
      "set= { Raiders of the Lost Ark (1981), Return of the Jedi (1983), Star Wars (1977) },  sup= 35.0\n",
      "set= { Independence Day (ID4) (1996), Return of the Jedi (1983), Star Wars (1977) },  sup= 34.0\n",
      "set= { Fargo (1996), Return of the Jedi (1983), Star Wars (1977) },  sup= 34.0\n",
      "set= { Empire Strikes Back, The (1980), Return of the Jedi (1983), Star Wars (1977) },  sup= 33.0\n",
      "set= { Empire Strikes Back, The (1980), Raiders of the Lost Ark (1981), Star Wars (1977) },  sup= 33.0\n",
      "set= { Empire Strikes Back, The (1980), Raiders of the Lost Ark (1981), Return of the Jedi (1983) },  sup= 31.0\n",
      "set= { Godfather, The (1972), Return of the Jedi (1983), Star Wars (1977) },  sup= 31.0\n",
      "set= { Return of the Jedi (1983), Silence of the Lambs, The (1991), Star Wars (1977) },  sup= 30.0\n",
      "set= { Return of the Jedi (1983), Star Wars (1977), Twelve Monkeys (1995) },  sup= 30.0\n",
      "------------------------------------------------------------------\n",
      "-------TOP 10 (or less) FREQUENT 4-ITEMSET------------------------\n",
      "set= { Empire Strikes Back, The (1980), Raiders of the Lost Ark (1981), Return of the Jedi (1983), Star Wars (1977) },  sup= 31.0\n",
      "------------------------------------------------------------------\n",
      "---------------------ASSOCIATION RULES------------------\n",
      "--------------------------------------------------------\n",
      "Rule #73: { Empire Strikes Back, The (1980), Raiders of the Lost Ark (1981), Return of the Jedi (1983) } ==> { Star Wars (1977) }, sup= 31.18, conf= 99.66\n",
      "\n",
      "Rule #34: { Empire Strikes Back, The (1980), Return of the Jedi (1983) } ==> { Star Wars (1977) }, sup= 33.40, conf= 99.37\n",
      "\n",
      "Rule #54: { Pulp Fiction (1994), Return of the Jedi (1983) } ==> { Star Wars (1977) }, sup= 30.22, conf= 98.62\n",
      "\n",
      "Rule #63: { Raiders of the Lost Ark (1981), Return of the Jedi (1983) } ==> { Star Wars (1977) }, sup= 35.74, conf= 98.54\n",
      "\n",
      "Rule #48: { Return of the Jedi (1983), Toy Story (1995) } ==> { Star Wars (1977) }, sup= 35.31, conf= 97.94\n",
      "\n",
      "Rule #44: { Return of the Jedi (1983), Silence of the Lambs, The (1991) } ==> { Star Wars (1977) }, sup= 30.65, conf= 97.64\n",
      "\n",
      "Rule #45: { Return of the Jedi (1983), Twelve Monkeys (1995) } ==> { Star Wars (1977) }, sup= 30.54, conf= 97.63\n",
      "\n",
      "Rule #58: { Godfather, The (1972), Return of the Jedi (1983) } ==> { Star Wars (1977) }, sup= 31.92, conf= 97.10\n",
      "\n",
      "Rule #50: { Return of the Jedi (1983), Star Trek: First Contact (1996) } ==> { Star Wars (1977) }, sup= 30.65, conf= 96.98\n",
      "\n",
      "Rule #36: { Empire Strikes Back, The (1980), Raiders of the Lost Ark (1981) } ==> { Star Wars (1977) }, sup= 33.51, conf= 96.64\n",
      "\n",
      "Rule #31: { Independence Day (ID4) (1996), Return of the Jedi (1983) } ==> { Star Wars (1977) }, sup= 34.68, conf= 96.46\n",
      "\n",
      "Rule #65: { Contact (1997), Return of the Jedi (1983) } ==> { Star Wars (1977) }, sup= 30.22, conf= 95.64\n",
      "\n",
      "Rule #53: { Fargo (1996), Return of the Jedi (1983) } ==> { Star Wars (1977) }, sup= 34.99, conf= 95.38\n",
      "\n",
      "Rule #15: { Return of the Jedi (1983) } ==> { Star Wars (1977) }, sup= 50.90, conf= 94.67\n",
      "\n",
      "Rule #4: { Empire Strikes Back, The (1980) } ==> { Star Wars (1977) }, sup= 36.59, conf= 94.01\n",
      "\n",
      "Rule #61: { Raiders of the Lost Ark (1981), Silence of the Lambs, The (1991) } ==> { Star Wars (1977) }, sup= 30.86, conf= 93.57\n",
      "\n",
      "Rule #75: { Empire Strikes Back, The (1980), Return of the Jedi (1983), Star Wars (1977) } ==> { Raiders of the Lost Ark (1981) }, sup= 31.18, conf= 93.33\n",
      "\n",
      "Rule #41: { Empire Strikes Back, The (1980), Return of the Jedi (1983) } ==> { Raiders of the Lost Ark (1981) }, sup= 31.28, conf= 93.06\n",
      "\n",
      "Rule #72: { Empire Strikes Back, The (1980), Raiders of the Lost Ark (1981), Star Wars (1977) } ==> { Return of the Jedi (1983) }, sup= 31.18, conf= 93.04\n",
      "\n",
      "Rule #69: { Empire Strikes Back, The (1980), Return of the Jedi (1983) } ==> { Raiders of the Lost Ark (1981), Star Wars (1977) }, sup= 31.18, conf= 92.74\n",
      "\n",
      "Rule #56: { Pulp Fiction (1994), Raiders of the Lost Ark (1981) } ==> { Star Wars (1977) }, sup= 30.65, conf= 92.04\n",
      "\n",
      "Rule #27: { Indiana Jones and the Last Crusade (1989) } ==> { Star Wars (1977) }, sup= 32.24, conf= 91.84\n",
      "\n",
      "Rule #37: { Empire Strikes Back, The (1980), Star Wars (1977) } ==> { Raiders of the Lost Ark (1981) }, sup= 33.51, conf= 91.59\n",
      "\n",
      "Rule #49: { Star Trek: First Contact (1996), Star Wars (1977) } ==> { Return of the Jedi (1983) }, sup= 30.65, conf= 91.46\n",
      "\n",
      "Rule #33: { Empire Strikes Back, The (1980), Star Wars (1977) } ==> { Return of the Jedi (1983) }, sup= 33.40, conf= 91.30\n",
      "\n",
      "Rule #2: { Mission: Impossible (1996) } ==> { Independence Day (ID4) (1996) }, sup= 33.30, conf= 91.28\n",
      "\n",
      "Rule #23: { Raiders of the Lost Ark (1981) } ==> { Star Wars (1977) }, sup= 40.30, conf= 90.48\n",
      "\n",
      "Rule #30: { Independence Day (ID4) (1996), Star Wars (1977) } ==> { Return of the Jedi (1983) }, sup= 34.68, conf= 90.33\n",
      "\n",
      "Rule #40: { Empire Strikes Back, The (1980), Raiders of the Lost Ark (1981) } ==> { Return of the Jedi (1983) }, sup= 31.28, conf= 90.21\n",
      "\n",
      "Rule #68: { Empire Strikes Back, The (1980), Raiders of the Lost Ark (1981) } ==> { Return of the Jedi (1983), Star Wars (1977) }, sup= 31.18, conf= 89.91\n",
      "\n",
      "Rule #6: { Empire Strikes Back, The (1980) } ==> { Raiders of the Lost Ark (1981) }, sup= 34.68, conf= 89.10\n",
      "\n",
      "Rule #46: { Star Wars (1977), Twelve Monkeys (1995) } ==> { Return of the Jedi (1983) }, sup= 30.54, conf= 88.89\n",
      "\n",
      "Rule #64: { Raiders of the Lost Ark (1981), Star Wars (1977) } ==> { Return of the Jedi (1983) }, sup= 35.74, conf= 88.68\n",
      "\n",
      "Rule #3: { Forrest Gump (1994) } ==> { Star Wars (1977) }, sup= 30.12, conf= 88.47\n",
      "\n",
      "Rule #18: { Fugitive, The (1993) } ==> { Star Wars (1977) }, sup= 31.50, conf= 88.39\n",
      "\n",
      "Rule #8: { Back to the Future (1985) } ==> { Star Wars (1977) }, sup= 32.77, conf= 88.29\n",
      "\n",
      "Rule #22: { Princess Bride, The (1987) } ==> { Star Wars (1977) }, sup= 30.12, conf= 87.65\n",
      "\n",
      "Rule #57: { Pulp Fiction (1994), Star Wars (1977) } ==> { Raiders of the Lost Ark (1981) }, sup= 30.65, conf= 87.58\n",
      "\n",
      "Rule #47: { Star Wars (1977), Toy Story (1995) } ==> { Return of the Jedi (1983) }, sup= 35.31, conf= 87.40\n",
      "\n",
      "Rule #51: { Fargo (1996), Toy Story (1995) } ==> { Star Wars (1977) }, sup= 30.12, conf= 87.38\n",
      "\n",
      "Rule #29: { Indiana Jones and the Last Crusade (1989) } ==> { Raiders of the Lost Ark (1981) }, sup= 30.65, conf= 87.31\n",
      "\n",
      "Rule #74: { Raiders of the Lost Ark (1981), Return of the Jedi (1983), Star Wars (1977) } ==> { Empire Strikes Back, The (1980) }, sup= 31.18, conf= 87.24\n",
      "\n",
      "Rule #60: { Silence of the Lambs, The (1991), Star Wars (1977) } ==> { Raiders of the Lost Ark (1981) }, sup= 30.86, conf= 86.87\n",
      "\n",
      "Rule #25: { Star Trek: First Contact (1996) } ==> { Star Wars (1977) }, sup= 33.51, conf= 86.58\n",
      "\n",
      "Rule #21: { Godfather, The (1972) } ==> { Star Wars (1977) }, sup= 37.86, conf= 86.44\n",
      "\n",
      "Rule #5: { Empire Strikes Back, The (1980) } ==> { Return of the Jedi (1983) }, sup= 33.62, conf= 86.38\n",
      "\n",
      "Rule #55: { Pulp Fiction (1994), Star Wars (1977) } ==> { Return of the Jedi (1983) }, sup= 30.22, conf= 86.36\n",
      "\n",
      "Rule #43: { Silence of the Lambs, The (1991), Star Wars (1977) } ==> { Return of the Jedi (1983) }, sup= 30.65, conf= 86.27\n",
      "\n",
      "Rule #42: { Raiders of the Lost Ark (1981), Return of the Jedi (1983) } ==> { Empire Strikes Back, The (1980) }, sup= 31.28, conf= 86.26\n",
      "\n",
      "Rule #35: { Empire Strikes Back, The (1980) } ==> { Raiders of the Lost Ark (1981), Star Wars (1977) }, sup= 33.51, conf= 86.10\n",
      "\n",
      "Rule #70: { Raiders of the Lost Ark (1981), Return of the Jedi (1983) } ==> { Empire Strikes Back, The (1980), Star Wars (1977) }, sup= 31.18, conf= 85.96\n",
      "\n",
      "Rule #7: { Silence of the Lambs, The (1991) } ==> { Star Wars (1977) }, sup= 35.52, conf= 85.90\n",
      "\n",
      "Rule #32: { Empire Strikes Back, The (1980) } ==> { Return of the Jedi (1983), Star Wars (1977) }, sup= 33.40, conf= 85.83\n",
      "\n",
      "Rule #28: { Indiana Jones and the Last Crusade (1989) } ==> { Return of the Jedi (1983) }, sup= 30.01, conf= 85.50\n",
      "\n",
      "Rule #66: { Contact (1997), Star Wars (1977) } ==> { Return of the Jedi (1983) }, sup= 30.22, conf= 85.33\n",
      "\n",
      "Rule #71: { Empire Strikes Back, The (1980), Star Wars (1977) } ==> { Raiders of the Lost Ark (1981), Return of the Jedi (1983) }, sup= 31.18, conf= 85.22\n",
      "\n",
      "Rule #10: { Back to the Future (1985) } ==> { Raiders of the Lost Ark (1981) }, sup= 31.60, conf= 85.14\n",
      "\n",
      "Rule #19: { Fugitive, The (1993) } ==> { Raiders of the Lost Ark (1981) }, sup= 30.33, conf= 85.12\n",
      "\n",
      "Rule #1: { Independence Day (ID4) (1996) } ==> { Star Wars (1977) }, sup= 38.39, conf= 84.38\n",
      "\n",
      "Rule #59: { Godfather, The (1972), Star Wars (1977) } ==> { Return of the Jedi (1983) }, sup= 31.92, conf= 84.31\n",
      "\n",
      "Rule #26: { Mission: Impossible (1996) } ==> { Star Wars (1977) }, sup= 30.75, conf= 84.30\n",
      "\n",
      "Rule #13: { Toy Story (1995) } ==> { Star Wars (1977) }, sup= 40.40, conf= 84.29\n",
      "\n",
      "Rule #20: { Pulp Fiction (1994) } ==> { Star Wars (1977) }, sup= 34.99, conf= 83.76\n",
      "\n",
      "Rule #52: { Fargo (1996), Star Wars (1977) } ==> { Return of the Jedi (1983) }, sup= 34.99, conf= 83.76\n",
      "\n",
      "Rule #38: { Raiders of the Lost Ark (1981), Star Wars (1977) } ==> { Empire Strikes Back, The (1980) }, sup= 33.51, conf= 83.16\n",
      "\n",
      "Rule #12: { Twelve Monkeys (1995) } ==> { Star Wars (1977) }, sup= 34.36, conf= 82.65\n",
      "\n",
      "Rule #11: { Rock, The (1996) } ==> { Star Wars (1977) }, sup= 33.09, conf= 82.54\n",
      "\n",
      "Rule #14: { Star Wars (1977) } ==> { Return of the Jedi (1983) }, sup= 50.90, conf= 82.33\n",
      "\n",
      "Rule #9: { Back to the Future (1985) } ==> { Return of the Jedi (1983) }, sup= 30.33, conf= 81.71\n",
      "\n",
      "Rule #16: { Star Trek: First Contact (1996) } ==> { Return of the Jedi (1983) }, sup= 31.60, conf= 81.64\n",
      "\n",
      "Rule #17: { Twelve Monkeys (1995) } ==> { Fargo (1996) }, sup= 33.93, conf= 81.63\n",
      "\n",
      "Rule #24: { Raiders of the Lost Ark (1981) } ==> { Return of the Jedi (1983) }, sup= 36.27, conf= 81.43\n",
      "\n",
      "Rule #39: { Empire Strikes Back, The (1980) } ==> { Raiders of the Lost Ark (1981), Return of the Jedi (1983) }, sup= 31.28, conf= 80.38\n",
      "\n",
      "Rule #62: { Raiders of the Lost Ark (1981) } ==> { Return of the Jedi (1983), Star Wars (1977) }, sup= 35.74, conf= 80.24\n",
      "\n",
      "Rule #67: { Empire Strikes Back, The (1980) } ==> { Raiders of the Lost Ark (1981), Return of the Jedi (1983), Star Wars (1977) }, sup= 31.18, conf= 80.11\n",
      "--------------------------------------------------------\n"
     ]
    }
   ],
   "source": [
    "generate_association_rules()"
   ]
  },
  {
   "cell_type": "markdown",
   "metadata": {},
   "source": [
    "When looking at the numbers in the association rules, it is hard to see if those rules make sense. But when printing the names corresponding to those numbers the association rules suddenly make total sense. Most rules with high confidence are movies that are both part of the same series of movies, like 'Star Wars'. Sometimes the movies in the association rules do not belong to the same series of movies, but in that case those movies are very popular, like 'The Godfather', so they have a high confidence simply because everyone watched those movies."
   ]
  },
  {
   "cell_type": "markdown",
   "metadata": {},
   "source": [
    "#### 5.2.3 \n",
    "(1 point) Which movies have been watched by the most users? There are only few rules with more than three items. Why?"
   ]
  },
  {
   "cell_type": "markdown",
   "metadata": {},
   "source": [
    "'Star Wars' (1977) has been watched by the most users, 61.82% to be precise. There is only one frequent four-itemset. This is because the chance of users buying the exact same four movies is very low. If a user only buys three of those four movies, then the support goes down. So considering that there are a lot of people that buy, for instance, three of those four movies, the support of that frequent four-itemset will go down very quickly."
   ]
  },
  {
   "cell_type": "markdown",
   "metadata": {},
   "source": [
    "#### 5.2.4\n",
    "(0.5 points) Often we are interested in rules with high confidence. Is it possible for\n",
    "itemsets to have very low support but still have a very high confidence?"
   ]
  },
  {
   "cell_type": "markdown",
   "metadata": {},
   "source": [
    "It is possible to have an itemset with a very low support and a very high confidence. Let's say we have some very good, but obscure movie that almost nobody knows of and that movie has a sequal. Then people who watched the first movie will definitely watch the sequel, because the first one was very good. So the confidence is very high. But since most people have not watched either of those tho movies, the support will be very low."
   ]
  },
  {
   "cell_type": "markdown",
   "metadata": {},
   "source": [
    "## 5.3 Calculating support, confidence and interest\n",
    "\n",
    "Calculate these measures and write down how you computed things, not just the answers. \n",
    "\n",
    "\n",
    "#### 5.3.1\n",
    " Suppose we have market basket data consisting of 100 transactions and 20 items. The support for item $ \\text{a} = 45 \\%$, the support for item $ \\text{b} = 80 \\%$ and the support for itemset $ \\text{ {a,b }} = 30 \\%$. Let the support and confidence thresholds be 20$ \\%$ and 60$ \\%$, respectively.\n",
    "  \n",
    "1. (0.5 points) Compute the confidence of the association rule $ \\text{ {a } } \\rightarrow   \\text{{b }} $. Is the rule interesting according to the confidence measure?\n",
    "\n",
    "2. (0.5 points) Compute the interest measure (or lift, see slide 44 of chapter 6) for the association pattern $ \\text{ {a,b}}$. Describe the nature of the relationship between item $ \\text{a}$ and item $ \\text{b}$  in terms of the itemset measure.\n",
    "3. (1 points) What conclusion can you draw from the results of parts (1) and (2)?"
   ]
  },
  {
   "cell_type": "markdown",
   "metadata": {},
   "source": [
    "1. The confidence of a set $\\text{{a, b}}$ is the support of $(\\text{a U b})$ divided by the support of $a$. So then the confidence of the set $\\text{{a, b}}$ is: $(\\text{a U b})\\ /\\ a = \\text{{a, b}}\\ /\\ a = 30\\%\\ /\\ 45\\% = 2\\ /\\ 3$. So the confidence of the association rule $\\text{{a}} \\rightarrow \\text{{b}}$ is $2\\ /\\ 3 = 67\\%$. This rule is interesting according to the confidence measure because the treshold of the confidence measure is set to $60\\%$ and $67\\% > 60\\%$. The confidence measure of $67\\%$ means that out of all itemsets that contain item $a$, $67\\%$ of those itemsets also contain item $b$.\n",
    "\n",
    "2. $Lift = P(Y | X)\\ /\\ P(Y)$. So the lift of the association pattern $\\text{{a, b}}$ is: $P(b | a)\\ /\\ P(b) = 67\\% \\ /\\ 80\\% = 5\\ /\\ 6 = 0.83$. The lift measure of $0.83$ means that the lift is very low. So the probability of a person buying item $b$ when that person has bought item $a$ does not increase.\n",
    "\n",
    "3. The conclusion we can draw from parts (1) and (2) of this exercise is that item $a$ and item $b$ are frequently bought together. From the confidence measure we can see that when someone buys item $a$ or item $b$, there is also quite a high chance that that person will also buy item $b$ or item $a$ respectively. Though because of the low lift we do not know wheter this is because there is a relationship between item $a$ and item $b$, or if they are bought together by coincidence."
   ]
  },
  {
   "cell_type": "markdown",
   "metadata": {},
   "source": [
    "#### 5.3.2\n",
    "\n",
    "1. (1 points) Let $c_1$, $c_2$, and $c_3$ be the confidence values of the rules $ \\text{ {a } } \\rightarrow   \\text{{b }} $, $ \\text{ {a } } \\rightarrow   \\text{{b,c }} $, and $ \\text{ {a,c } } \\rightarrow   \\text{{b }} $ respectively. If we assume that $c_1$, $c_2$, and $c_3$ have different values, what are the possible inequality relationships (e.g. $c_1 \\leq c_2 \\leq c_3$) among $c_1$, $c_2$, and $c_3$? Which rule has the lowest confidence?\n",
    "2. (0.5 points) Suppose the confidence of the rules  $ \\text{ {a } } \\rightarrow   \\text{{b }} $ and $ \\text{ {b } } \\rightarrow   \\text{{c }} $ are larger than the confidence threshold. Is it possible that $ \\text{ {a } } \\rightarrow   \\text{{c }} $ has a confidence below that threshold? If no, explain why. If yes, give an example. "
   ]
  },
  {
   "cell_type": "markdown",
   "metadata": {},
   "source": [
    "1. The rule $\\text{{a}} \\rightarrow \\text{{b}}$ is basically a simpler version of $\\text{{a}} \\rightarrow \\text{{b, c}}$ and $\\text{{a, c}} \\rightarrow \\text{{b}}$ because $\\text{{b}} \\in \\text{{b, c}}$ and $\\text{{a}} \\in \\text{{a, c}}$. So this must mean that the confidence of the rule $c_1 = \\text{{a}} \\rightarrow \\text{{b}}$ is higher because when $\\text{{a}} \\rightarrow \\text{{b, c}}$ or $\\text{{a, c}} \\rightarrow \\text{{b}}$ occurs, $\\text{{a}} \\rightarrow \\text{{b}}$ must also occur. Then the confidence of $c_3 = \\text{{a, c}} \\rightarrow \\text{{b}}$ is probably higher than $c_2 = \\text{{a}} \\rightarrow \\text{{b, c}}$ because $c_3$ only requires one more item to be bought, while $c_2$ requires two other items to be bought, which clearly has a lower chance to occur than $c_3$. So $c_2$ has the lowest confidence.\n",
    "\n",
    "2. In general; no this is not possible, because the confidence of the rule $\\text{{a}} \\rightarrow \\text{{b}}$ is high, so when item $a$ is bought, the chance that item $b$ is bought is high. So then because of the rule $\\text{{b}} \\rightarrow \\text{{c}}$, the chance that item $c$ is bought is also high, so then the rule $\\text{{a}} \\rightarrow \\text{{c}}$ is above the treshold. The only time when the rule $\\text{{a}} \\rightarrow \\text{{c}}$ is below the treshold is when the two other rules are barely above the treshold, because then the 'combined' confidence can be below the treshold."
   ]
  },
  {
   "cell_type": "markdown",
   "metadata": {},
   "source": [
    "\n",
    "#### 5.3.3\n",
    "\n",
    "(3 points) Consider the relationships between customers who buy high-definition televisions and exercise machines as shown in Table 2 and 3.\n",
    "\n",
    "1. Compute the odd ratios for both tables.\n",
    "2. Compute the $\\phi$-coefficient for both tables.\n",
    "3. Compute the interest (or lift, in the book) factor for both tables.\n",
    "\n",
    "For Table 3 you should compute measures given below separately for College\n",
    "Students and for Adults. For each of the measures, describe how the direction\n",
    "of association changes when data is pooled together (Table 2) instead of being\n",
    "separated into two groups (Table 3)"
   ]
  },
  {
   "cell_type": "raw",
   "metadata": {},
   "source": [
    "# Table 2: Two way contingency table between the sale of high-definition television and exercise machine.\n",
    "|----------|-------|------|-------|\n",
    "|          | Buy Exercise machine |\n",
    "|----------|-------|------|-------|\n",
    "| Buy HDTV | yes   | no   | total |\n",
    "| yes      | 105   | 87   | 192   |\n",
    "| no       | 40    | 62   | 102   |\n",
    "| total    | 145   | 149  | 294   |\n",
    "|----------|-------|------|-------|\n",
    "\n",
    "# Table 3: Example of three-way contingency table between the sale of high-definition television and exercise machine.\n",
    "|------------------|----------|-------|------|-------|\n",
    "|                             | Buy Exercise machine |\n",
    "|------------------|----------|-------|------|-------|\n",
    "| Customer group   | Buy HDTV | yes   | no   | total |\n",
    "| College students | yes      | 2     | 9    | 11    |\n",
    "|                  | no       | 5     | 20   | 25    |\n",
    "| Working adults   | yes      | 103   | 78   | 181   |\n",
    "|                  | no       | 35    | 42   | 77    |\n",
    "|------------------|----------|-------|------|-------|"
   ]
  },
  {
   "cell_type": "markdown",
   "metadata": {},
   "source": [
    "1. $\\text{Odds ratio} = (\\text{Both yes} * \\text{Both no}) / (\\text{First yes second no} * \\text{First no second yes})$. For table 2 the odds ratio is $(105 * 62) / (87 * 40) = 1.87$. And for table 3 the odds ratios are $(2 * 20) / (9 * 5) = 0.89$ and  $(103 * 42) / (78 * 35) = 1.58$. When seperating the data into two groups, instead of one, both odds ratios get quite a bit lower, especially for college students.\n",
    "\n",
    "2. $\\phi\\text{-coefficient} = (\\text{Both yes} * \\text{Both no} - \\text{First yes second no} * \\text{First no second yes}) /$ $(\\sqrt{\\text{Total yes} * \\text{Total no} * \\text{Total yes} * \\text{Total no}})$. So the $\\phi$-coefficient of table 2 is $(105 * 62 - 87 * 40) /$ $(\\sqrt{192 * 102 * 145 * 149}) = 0.15$. And the $\\phi$-coefficients of table 3 are $(2 * 20 - 9 * 5) / (\\sqrt{11 * 25 * 7 * 29}) = -0.02$ and $(103 * 42 - 78 * 35) / (\\sqrt{181 * 77 * 138 * 120}) = 0.11$. When seperating the data into two groups, instead of one, the $\\phi$-coefficients both get lower, for college students the $\\phi$-coefficient even goes below zero.\n",
    "\n",
    "3. $Lift = P(yes\\ U\\ no)\\ /\\ (P(yes) * P(no))$. So the lift of table 2 is $294 / (192 * 145) = 1.1\\%$. And the lifts of table 3 are $36 / (11 * 7) = 46.8\\%$ and $258 / (181 * 138) = 1.0\\%$. When seperating the data into two groups, instead of one, the lift for working adults stays about the same, but the lift for college students gets **a lot** higher."
   ]
  }
 ],
 "metadata": {
  "anaconda-cloud": {},
  "kernelspec": {
   "display_name": "Python 2",
   "language": "python",
   "name": "python2"
  },
  "language_info": {
   "codemirror_mode": {
    "name": "ipython",
    "version": 2
   },
   "file_extension": ".py",
   "mimetype": "text/x-python",
   "name": "python",
   "nbconvert_exporter": "python",
   "pygments_lexer": "ipython2",
   "version": "2.7.15+"
  }
 },
 "nbformat": 4,
 "nbformat_minor": 1
}
