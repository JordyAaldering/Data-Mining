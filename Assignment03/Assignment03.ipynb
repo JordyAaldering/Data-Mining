{
 "cells": [
  {
   "cell_type": "markdown",
   "metadata": {},
   "source": [
    "# Assignment 3\n",
    "\n",
    "## Objective of this assignment\n",
    "The objective of this exercise is to become familiar with fitting decision trees and\n",
    "making ROC curves in Python.\n",
    "\n",
    "\n",
    "## ** Important: ** When handing in your homework:\n",
    "+ Hand in the notebook (and nothing else) named as follows: StudentName1_snumber_StudentName2_snumber.ipynb\n",
    "+ Provide clear and complete answers to the questions below under a separate header (not hidden somewhere in your source code), and make sure to explain your answers / motivate your choices. Add Markdown cells where necessary.\n",
    "+ Source code, output graphs, derivations, etc., should be included in the notebook.\n",
    "+ Hand-in: upload to Brightspace.\n",
    "+ Include name, student number, assignment (especially in filenames)!\n",
    "+ When working in pairs only one of you should upload the assignment, and report the name of your partner in your filename.\n",
    "+ For problems or questions: use the Brightspace discussion board or email the student assistants.\n",
    "\n",
    "\n",
    "## Advised Reading and Exercise Material\n",
    "**The following reading material is recommended:**\n",
    "\n",
    "Pang-Ning Tan, Michael Steinbach, and Vipin Kumar, Introduction to Data Mining, section 4.1-4.6, as well as the included article on ROC curves.\n"
   ]
  },
  {
   "cell_type": "markdown",
   "metadata": {},
   "source": [
    "## 3.1 Decision trees\n",
    "\n",
    "In this part of the exercise we will fit decision trees using the scikitlearn classifier\n",
    "`sklearn.tree.DecisionTreeClassifier`. As a splitting criterion, the function uses\n",
    "one of the following two impurity measures:\n",
    "\n",
    "\\begin{equation} \\textrm{gdi}(t) = -\\sum_{i=1}^C p(i|t)^2 \\quad \\text{       equivalent to Gini(t)} \\end{equation}   \n",
    "\n",
    "\\begin{equation}\n",
    "\\textrm{deviance}(t) = -2\\sum_{i=1}^C p(i|t) \\log p(i|t) \\quad \\text{equivalent to Entropy(t)} \n",
    "\\end{equation}\n",
    "\n",
    "We will analyze the wine data we have used previously. The wine data set has the following attributes, all of which are continuous: \n",
    "\n",
    "\n",
    "| #             | Attribute     | Unit  |\n",
    "| ------------- |:-------------| -----:|\n",
    "|1 | Fixed acidity (tartaric) | g/dm$^3$ |\n",
    "|2 | Volatile acidity (acetic) | g/dm$^3$ |\n",
    "|3 | Citric acid | g/dm$^3$ |\n",
    "|4 | Residual sugar | g/dm$^3$ |\n",
    "|5 | Chlorides | g/dm$^3$ |\n",
    "|6 | Free sulfur dioxide | mg/dm$^3$ |\n",
    "|7 | Total sulfur dioxide | mg/dm$^3$ |\n",
    "|8 | Density | g/cm$^3$ |\n",
    "|9 | pH | pH |\n",
    "|10 | Sulphates | g/dm$^3$ |\n",
    "|11 | Alcohol | % vol. | \n",
    "\n",
    "\n",
    "#### 3.1.1\n",
    "Load the wine data set `Data/wine.mat` using the `scipy.io` `loadmat` function. This contains the same data as used in the earlier assignment, but with outliers and the 12th attribute already removed. Create data matrix $X$, class vector $y$, and the vectors $attributeNames$ and $classNames$ with the data provided in the `wine.mat` file."
   ]
  },
  {
   "cell_type": "code",
   "execution_count": 1,
   "metadata": {},
   "outputs": [],
   "source": [
    "import numpy  as np\n",
    "import matplotlib.pyplot as plt\n",
    "\n",
    "import scipy\n",
    "from scipy.io    import loadmat\n",
    "from scipy.stats import binom\n",
    "\n",
    "import sklearn\n",
    "from sklearn.tree            import DecisionTreeClassifier as DTC\n",
    "from sklearn.metrics         import accuracy_score         as AC\n",
    "from sklearn.metrics         import roc_auc_score          as RAS\n",
    "from sklearn.metrics         import roc_curve              as ROC\n",
    "from sklearn.model_selection import cross_val_score        as CVS\n",
    "from sklearn.model_selection import train_test_split       as TTS\n",
    "\n",
    "from pandas import read_excel\n",
    "from Toolbox.treeprint import tree_print"
   ]
  },
  {
   "cell_type": "code",
   "execution_count": 2,
   "metadata": {},
   "outputs": [
    {
     "name": "stdout",
     "output_type": "stream",
     "text": [
      "X shape:               (6304, 11)\n",
      "y shape:               (6304,)\n",
      "attribute_names shape: (11,)\n",
      "class_names shape:     (2,)\n"
     ]
    }
   ],
   "source": [
    "# Load wine data set\n",
    "wine_data       = loadmat('Data/wine.mat')\n",
    "X               = wine_data['X']\n",
    "y               = wine_data['y'].ravel()\n",
    "attribute_names = wine_data['attributeNames'].ravel()\n",
    "class_names     = wine_data['classNames'].ravel()\n",
    "\n",
    "# Print shapes\n",
    "print('X shape:              ', X.shape)\n",
    "print('y shape:              ', y.shape)\n",
    "print('attribute_names shape:', attribute_names.shape)\n",
    "print('class_names shape:    ', class_names.shape)\n",
    "\n",
    "# Print wine data set\n",
    "#print(X)\n",
    "#print(y)\n",
    "#print(attribute_names)\n",
    "#print(class_names)"
   ]
  },
  {
   "cell_type": "markdown",
   "metadata": {},
   "source": [
    "#### 3.1.2\n",
    " (2 pts) Fit a decision tree to the wine data in order to estimate if the wine is red or white. Use the Gini (gdi) splitting criterion. Use `min_samples_split=100` for the stopping criterion. Explain what happens when you change the values of the parameter `min_samples_split`. After fitting the tree, visualize it with the tree_print function in `treeprint.py`."
   ]
  },
  {
   "cell_type": "code",
   "execution_count": 3,
   "metadata": {
    "scrolled": false
   },
   "outputs": [
    {
     "name": "stdout",
     "output_type": "stream",
     "text": [
      "         |->3  ['White']\n",
      "         |\n",
      "      |->2 then if ['Sulphates'] =< 0.56: go to 3, else go to 4\n",
      "      |  |\n",
      "      |  |->4  ['White']\n",
      "      |\n",
      "   |->1 then if ['Chlorides'] =< 0.05: go to 2, else go to 5\n",
      "   |  |\n",
      "   |  |  |->6  ['White']\n",
      "   |  |  |\n",
      "   |  |->5 else if ['Sulphates'] =< 0.37: go to 6, else go to 7\n",
      "   |     |\n",
      "   |     |  |->8  ['White']\n",
      "   |     |  |\n",
      "   |     |->7 else if ['Density'] =< 0.99: go to 8, else go to 9\n",
      "   |        |\n",
      "   |        |     |->11  ['White']\n",
      "   |        |     |\n",
      "   |        |  |->10 then if ['Residual sugar'] =< 1.10: go to 11, else go to 12\n",
      "   |        |  |  |\n",
      "   |        |  |  |->12  ['Red']\n",
      "   |        |  |\n",
      "   |        |->9 else if ['Residual sugar'] =< 10.70: go to 10, else go to 13\n",
      "   |           |\n",
      "   |           |->13  ['White']\n",
      "   |\n",
      "if ['Total sulfur dioxide'] =< 66.50: go to 1, else go to 14\n",
      "   |\n",
      "   |              |->19  ['White']\n",
      "   |              |\n",
      "   |           |->18 then if ['pH'] =< 3.84: go to 19, else go to 20\n",
      "   |           |  |\n",
      "   |           |  |->20  ['Red']\n",
      "   |           |\n",
      "   |        |->17 then if ['Chlorides'] =< 0.07: go to 18, else go to 21\n",
      "   |        |  |\n",
      "   |        |  |->21  ['White']\n",
      "   |        |\n",
      "   |     |->16 then if ['Sulphates'] =< 1.12: go to 17, else go to 22\n",
      "   |     |  |\n",
      "   |     |  |->22  ['Red']\n",
      "   |     |\n",
      "   |  |->15 then if ['Volatile acidity'] =< 0.82: go to 16, else go to 23\n",
      "   |  |  |\n",
      "   |  |  |->23  ['Red']\n",
      "   |  |\n",
      "   |->14 else if ['Chlorides'] =< 0.07: go to 15, else go to 24\n",
      "      |\n",
      "      |     |->26  ['Red']\n",
      "      |     |\n",
      "      |  |->25 then if ['Citric acid'] =< 0.06: go to 26, else go to 27\n",
      "      |  |  |\n",
      "      |  |  |  |->28  ['Red']\n",
      "      |  |  |  |\n",
      "      |  |  |->27 else if ['Chlorides'] =< 0.07: go to 28, else go to 29\n",
      "      |  |     |\n",
      "      |  |     |  |->30  ['White']\n",
      "      |  |     |  |\n",
      "      |  |     |->29 else if ['Fixed acidity'] =< 9.95: go to 30, else go to 31\n",
      "      |  |        |\n",
      "      |  |        |->31  ['Red']\n",
      "      |  |\n",
      "      |->24 else if ['Density'] =< 1.00: go to 25, else go to 32\n",
      "         |\n",
      "         |        |->35  ['White']\n",
      "         |        |\n",
      "         |     |->34 then if ['Volatile acidity'] =< 0.22: go to 35, else go to 36\n",
      "         |     |  |\n",
      "         |     |  |->36  ['Red']\n",
      "         |     |\n",
      "         |  |->33 then if ['Total sulfur dioxide'] =< 157.50: go to 34, else go to 37\n",
      "         |  |  |\n",
      "         |  |  |->37  ['White']\n",
      "         |  |\n",
      "         |->32 else if ['Residual sugar'] =< 6.25: go to 33, else go to 38\n",
      "            |\n",
      "            |->38  ['White']\n",
      "<---------------------------->\n",
      "Tree Depth:  6\n"
     ]
    }
   ],
   "source": [
    "msp = 100  # min_samples_split\n",
    "md  = 6    # max_depth\n",
    "\n",
    "# Fit tree classifier\n",
    "dtc = DTC(criterion='gini', min_samples_split=msp, max_depth=md).fit(X, y)\n",
    "\n",
    "# Print tree\n",
    "tree_print(dtc, attribute_names, class_names)"
   ]
  },
  {
   "cell_type": "markdown",
   "metadata": {},
   "source": [
    "`min_samples_split` ensures that multiple samples inform every decision in the tree, by controlling which splits will be considered. A very small number will usually mean the tree will overfit, whereas a large number will prevent the tree from learning the data."
   ]
  },
  {
   "cell_type": "markdown",
   "metadata": {},
   "source": [
    "#### 3.1.3\n",
    "\n",
    "(0.5 pts) Show that a wine with the following attribute values would be classified as white by the tree fitted in 3.1.2. Which attributes are used to classify this wine?\n",
    "\n",
    "| #             | Attribute     | Value  |\n",
    "| ------------- |:-------------| -----:|\n",
    "|1 | Fixed acidity (tartaric) | 6.9 g/dm$^3$ |\n",
    "|2 | Volatile acidity (acetic) | 1.09 g/dm$^3$ |\n",
    "|3 | Citric acid | 0.06 g/dm$^3$ |\n",
    "|4 | Residual sugar | 2.1 g/dm$^3$ |\n",
    "|5 | Chlorides | 0.0061 g/dm$^3$ |\n",
    "|6 | Free sulfur dioxide | 12 mg/dm$^3$ |\n",
    "|7 | Total sulfur dioxide | 31 mg/dm$^3$ |\n",
    "|8 | Density | 0.99 g/cm$^3$ |\n",
    "|9 | pH | 3.5 |\n",
    "|10 | Sulphates | 0.64 g/dm$^3$ |\n",
    "|11 | Alcohol | 12 % vol. |"
   ]
  },
  {
   "cell_type": "code",
   "execution_count": 4,
   "metadata": {},
   "outputs": [
    {
     "name": "stdout",
     "output_type": "stream",
     "text": [
      "Class: [array(['White'], dtype='<U5')]\n"
     ]
    }
   ],
   "source": [
    "# Classify type\n",
    "x       = np.array([6.9,1.09,.06,2.1,.0061,12,31,.99,3.5,.64,12]).reshape(1,-1)\n",
    "x_class = dtc.predict(x)\n",
    "\n",
    "# Print class\n",
    "print('Class:', class_names[x_class])"
   ]
  },
  {
   "cell_type": "markdown",
   "metadata": {},
   "source": [
    "#### 3.1.4\n",
    "(1 pts) Classify all the wines in the wine data set. What percentage of the wine data is classified correctly by the tree?\n",
    "\n"
   ]
  },
  {
   "cell_type": "code",
   "execution_count": 5,
   "metadata": {},
   "outputs": [
    {
     "name": "stdout",
     "output_type": "stream",
     "text": [
      "Accuracy: 0.9866751269035533\n"
     ]
    }
   ],
   "source": [
    "# Classify all wines\n",
    "wine_class = np.array([], np.uint8)\n",
    "\n",
    "for i in range(0,X[:,0].size):\n",
    "    Xi         = X[i].reshape(1,-1)\n",
    "    Xi_class   = dtc.predict(Xi)\n",
    "    wine_class = np.append(wine_class, Xi_class)\n",
    "\n",
    "# Print accuracy\n",
    "acc = AC(y, wine_class)\n",
    "print('Accuracy:', acc)"
   ]
  },
  {
   "cell_type": "markdown",
   "metadata": {},
   "source": [
    "## 3.2 Decision tree pruning using cross-validation\n",
    "\n",
    "In this exercise we will use cross-validation to prune a decision tree. When applying cross-validation the observed data is split into training and test sets, i.e., `X_train`, `y_train` and `X_test` and `y_test`. We train the model on the training data and evaluate the performance of the trained model on the test data.\n",
    "\n",
    "#### 3.2.1\n",
    "(2 pts) Load the wine data set `Data/wine.mat` using the `scipy.io` `loadmat` function. Divide the data into a training and a test data set. Fit a decision tree to the training data using the Gini (`gdi`) splitting criterion.\n",
    "\n",
    "Now, we want to find an optimally pruned decision tree by *modifying its maximum depth*. For different values of the parameter `depth` (from 2 to 20), \n",
    "+ first fit the decision tree\n",
    "+ then compute the classification error on the training and test set (this is called holdout cross-validation)\n",
    "\n",
    "When you've done this for `depth` values 2,...,20, plot the training and test classification error as a function of the tree depth in the same figure. This will show us what the optimal pruning depth is for the training set, but also how well this generalizes to a test set. \n",
    "\n",
    "What appears to be the optimal tree depth? Do you get the same result when you run your code again, generating a new random split between training and test data?\n"
   ]
  },
  {
   "cell_type": "code",
   "execution_count": 6,
   "metadata": {
    "scrolled": false
   },
   "outputs": [
    {
     "data": {
      "image/png": "[encoded data removed]",
      "text/plain": [
       "<Figure size 432x288 with 1 Axes>"
      ]
     },
     "metadata": {},
     "output_type": "display_data"
    }
   ],
   "source": [
    "# Split into training and test sets\n",
    "X_train, X_test, y_train, y_test = TTS(X, y)\n",
    "\n",
    "# Fit tree classifier\n",
    "scores = np.array([], np.uint8)\n",
    "for i in range(2,21):\n",
    "    dtc_i   = DTC(criterion='gini', min_samples_split=msp, max_depth=i).fit(X_train, y_train)\n",
    "    score_i = dtc_i.score(X_test, y_test)\n",
    "    scores  = np.append(scores, score_i)\n",
    "\n",
    "# Make bar plot\n",
    "pad   = .001\n",
    "y_pos = np.arange(2,21)\n",
    "\n",
    "plt.title ('Accuracy for each maximal tree depth.')\n",
    "plt.xlabel('Max. tree depth')\n",
    "plt.ylabel('Accuracy')\n",
    "plt.ylim  ([min(scores)-pad, max(scores)+pad])\n",
    "plt.xticks(y_pos)\n",
    "\n",
    "plt.bar(y_pos, scores)\n",
    "plt.show()"
   ]
  },
  {
   "cell_type": "markdown",
   "metadata": {},
   "source": [
    "It appears that a tree depth of 6 would be the optimal depth, because before that the accuracy still increases a lot and after that, the accuracy barely changes any more. When running the code multiple times the graph can change quite a bit, but in most cases the accuracy keeps climbing until a value of 5 or 6. Also, in quite a lot of runs there is a small peak in the accuracy for a depth of 5 or 6."
   ]
  },
  {
   "cell_type": "markdown",
   "metadata": {},
   "source": [
    "#### 3.2.2\n",
    "(1.5 pts) Repeat the exercise above, using 10-fold cross-validation. K-fold cross-validation works by splitting X into K partitions of equal length. Then in each fold, you choose K-1 partitions as the training set and the remaining partition as the test set. Every partition gets a turn being a test set. For a very nice simple explanation of how (and why) K-fold works, check out http://www.dummies.com/programming/big-data/data-science/resorting-cross-validation-machine-learning/\n",
    "\n",
    "\n",
    "For each fold, fit a decision tree on the training set and evaluate its performance on the test set. Finally, compute the average classification errors on the test- and training sets across the 10 cross-validation folds and plot them as a function of the tree depth.\n",
    "\n",
    "What appears to be the optimal tree depth? Do you get the same result when you run your code again, generating a new random split between training and test data? How about 100-fold cross-validation?"
   ]
  },
  {
   "cell_type": "code",
   "execution_count": 7,
   "metadata": {},
   "outputs": [
    {
     "data": {
      "image/png": "[encoded data removed]",
      "text/plain": [
       "<Figure size 432x288 with 1 Axes>"
      ]
     },
     "metadata": {},
     "output_type": "display_data"
    },
    {
     "data": {
      "image/png": "[encoded data removed]",
      "text/plain": [
       "<Figure size 432x288 with 1 Axes>"
      ]
     },
     "metadata": {},
     "output_type": "display_data"
    },
    {
     "data": {
      "image/png": "[encoded data removed]",
      "text/plain": [
       "<Figure size 432x288 with 1 Axes>"
      ]
     },
     "metadata": {},
     "output_type": "display_data"
    }
   ],
   "source": [
    "K = [2,10,100]  # folds\n",
    "\n",
    "for i in range(len(K)):\n",
    "    # Fit tree classifier\n",
    "    kf_scores = np.array([], np.uint8)\n",
    "    for j in range(2,21):\n",
    "        dtc_j     = DTC(criterion=\"gini\", min_samples_split=msp, max_depth=j)\n",
    "        score_j   = CVS(estimator=dtc_j, X=X, y=y, cv=K[i])\n",
    "        kf_scores = np.append(kf_scores, score_j.mean())\n",
    "\n",
    "    # Make bar plot\n",
    "    plt.title ('Accuracy for each maximal tree depth with %i splits.' %K[i])\n",
    "    plt.xlabel('Max. tree depth')\n",
    "    plt.ylabel('Accuracy')\n",
    "    plt.ylim  ([min(kf_scores)-pad, max(kf_scores)+pad])\n",
    "    plt.xticks(y_pos)\n",
    "    \n",
    "    plt.bar(y_pos, kf_scores)\n",
    "    plt.show()"
   ]
  },
  {
   "cell_type": "markdown",
   "metadata": {},
   "source": [
    "It still looks like a depth of 6 would be optimal, because before that the accuracy still increases a lot and after that, the accuracy barely changes any more. When running the code multiple times the outcomes don't change as much, especially when taking more splits. When increasing the amount of splits the bar plot becomes a lot smoother."
   ]
  },
  {
   "cell_type": "markdown",
   "metadata": {},
   "source": [
    " ## 3.3 ROC curves, AUC scores, and the sign test\n",
    "\n",
    "In this exercise we will use ROC curves and the sign test to compare classifiers. Study the lecture slides and the paper 'ROC Graphs: Notes and Practical Considerations for Researchers' by Tom Fawcett included with the homework assignment (ROC101.pdf). It describes all you need to know (and much, much more..) about ROC curves. The method explained for computing the area under the curve is unnecessarily complicated. A simpler formula is:\n",
    "$$\n",
    "    \\mbox{AUC} = {1 \\over m n} \\sum_{i=1}^m \\sum_{j=1}^n \\mathbf{\\large 1}_{p_i > p_j} \\: .\n",
    "$$\n",
    "Here $i$ runs over all $m$ data points with true label 1, and $j$ runs over all $n$ data points with true label $0$; $p_i$ and $p_j$ denote the probability score assigned by the classifier to data point $i$ and $j$, respectively. $\\mathbf{\\large 1}$ is the indicator function: it outputs $1$ if the condition (here $p_i > p_j$) is satisfied and $0$ otherwise. *Simply put: this formula computes how often the probability of a data point with true label 1 is higher than the probability of data points with true label 0. This is then divided by the total number of comparisons between probabilities.*\n",
    "    \n",
    "\n",
    "#### 3.3.1\n",
    "(0.25 pts) To make sure you understand how ROC works, you can make an ROC curve and calculate the AUC (on paper) with the following data:\n",
    "\n",
    "`\n",
    "labels = [0,0,0,1,0,1,1,0,1,1]\n",
    "classifier_probs = [0.1,0.2,0.3,0.4,0.5,0.6,0.7,0.8,0.9,0.99]\n",
    "`\n",
    "    \n",
    "What's the AUC you calculated? Do you think this classifier works well?\n"
   ]
  },
  {
   "cell_type": "markdown",
   "metadata": {},
   "source": [
    "The AUC I calculated on paper is: 0.84 <br>\n",
    "I think this classifier works well, because it tells you a lot more than just the accuracy, which can be misleading."
   ]
  },
  {
   "cell_type": "markdown",
   "metadata": {},
   "source": [
    "#### 3.3.2\n",
    "  Load the file `Data/classprobs.xls` using the Pandas `read_excel` function. Inspect the data and cast it to an array with the `as_matrix` function. The first column gives the true class label (either 0 or 1). The second and third column give the probabilistic scores for two different classifiers. The higher this probability, the more certain the classifier is that the example belongs to class 1 (instead of class 0).\n"
   ]
  },
  {
   "cell_type": "code",
   "execution_count": 8,
   "metadata": {},
   "outputs": [
    {
     "name": "stdout",
     "output_type": "stream",
     "text": [
      "true_class shape: (107,)\n",
      "pred1 shape:      (107,)\n",
      "pred2 shape:      (107,)\n"
     ]
    }
   ],
   "source": [
    "# Load class probs data set\n",
    "probs_data = read_excel('Data/classprobs.xls').values\n",
    "true_class = probs_data[:,0]\n",
    "pred1      = probs_data[:,1]\n",
    "pred2      = probs_data[:,2]\n",
    "\n",
    "# Print shapes\n",
    "print('true_class shape:', true_class.shape)\n",
    "print('pred1 shape:     ', pred1.shape)\n",
    "print('pred2 shape:     ', pred2.shape)\n",
    "\n",
    "# Print class probs data set\n",
    "#print(true_class)\n",
    "#print(pred1)\n",
    "#print(pred2)"
   ]
  },
  {
   "cell_type": "markdown",
   "metadata": {},
   "source": [
    "#### 3.3.3\n",
    "(1 pts) Calculate the ROC curves for both of the classifiers and plot them in the same plot. Also plot a dashed line on the diagonal to represent random guessing in the same figure. Interpret the obtained results. Do both classifiers perform better than random guessing?"
   ]
  },
  {
   "cell_type": "code",
   "execution_count": 9,
   "metadata": {},
   "outputs": [
    {
     "data": {
      "image/png": "[encoded data removed]",
      "text/plain": [
       "<Figure size 432x288 with 1 Axes>"
      ]
     },
     "metadata": {},
     "output_type": "display_data"
    }
   ],
   "source": [
    "# Calculate ROC\n",
    "FP1, TP1, thresh1 = ROC(true_class, pred1)\n",
    "FP2, TP2, thresh2 = ROC(true_class, pred2)\n",
    "\n",
    "# Define plot\n",
    "f, ax = plt.subplots()\n",
    "plt.title ('The ROC for two classifiers')\n",
    "plt.xlabel('False positive rate')\n",
    "plt.ylabel('True positive rate')\n",
    "\n",
    "# Make plot\n",
    "ax.plot  (FP1, label='FP classifier .88700')\n",
    "ax.plot  (TP1, label='TP classifier .88700')\n",
    "ax.plot  (FP2, label='FP classifier .79706')\n",
    "ax.plot  (TP2, label='TP classifier .79706')\n",
    "ax.plot  (ax.get_xlim(), ax.get_ylim(), '--', label='Random guessing')\n",
    "ax.legend(bbox_to_anchor=(1,1), loc='upper left')\n",
    "plt.show()"
   ]
  },
  {
   "cell_type": "markdown",
   "metadata": {},
   "source": [
    "Both classifiers perform better than random guessing. But the classifier 0.88700 is better because it has a steeper curve than the classifier 0.79706."
   ]
  },
  {
   "cell_type": "markdown",
   "metadata": {},
   "source": [
    "#### 3.3.4\n",
    "(0.5 pts) Compute the AUC scores (area under the curve) of both classifiers using the formula given above. Write your own code for this calculation. Do the AUC scores indicate that the classifiers are performing better than this baseline?\n",
    "\n",
    "\n",
    "\n",
    "\n",
    " "
   ]
  },
  {
   "cell_type": "code",
   "execution_count": 10,
   "metadata": {},
   "outputs": [
    {
     "name": "stdout",
     "output_type": "stream",
     "text": [
      "Score pred1: 0.9556254367575123\n",
      "Score pred2: 0.7613556953179594\n"
     ]
    }
   ],
   "source": [
    "# Calculate scores\n",
    "score_pred1 = RAS(true_class, pred1)\n",
    "score_pred2 = RAS(true_class, pred2)\n",
    "\n",
    "# Print scores\n",
    "print('Score pred1:', score_pred1)\n",
    "print('Score pred2:', score_pred2)"
   ]
  },
  {
   "cell_type": "markdown",
   "metadata": {},
   "source": [
    "The AUC scores do indeed perform better than the baseline. The AUC score of pred1 is better than the AUC score of pred2."
   ]
  },
  {
   "cell_type": "markdown",
   "metadata": {},
   "source": [
    "\n",
    "#### 3.3.5\n",
    "(0.25 pts) Using a threshold of 0.5, translate the probability scores to predicted class labels, and compute the accuracy for each of the classifiers."
   ]
  },
  {
   "cell_type": "code",
   "execution_count": 11,
   "metadata": {},
   "outputs": [],
   "source": [
    "# ?"
   ]
  },
  {
   "cell_type": "markdown",
   "metadata": {},
   "source": [
    "#### 3.3.6\n",
    "(1 pts) Create the 2x2 table of wrong and correct classifications by the first and the second classifier, like in the lecture slides (lecture on model evaluation, part on the sign test). Perform a sign test to test whether the performance of the two classifiers is significantly different at a significance level of 0.05."
   ]
  },
  {
   "cell_type": "code",
   "execution_count": 12,
   "metadata": {},
   "outputs": [
    {
     "name": "stdout",
     "output_type": "stream",
     "text": [
      "Pred1 has a better value 51 times, while pred2 has a better value 56 times.\n"
     ]
    },
    {
     "data": {
      "image/png": "[encoded data removed]",
      "text/plain": [
       "<Figure size 432x288 with 1 Axes>"
      ]
     },
     "metadata": {},
     "output_type": "display_data"
    },
    {
     "name": "stdout",
     "output_type": "stream",
     "text": [
      "The p-value is 0.699\n"
     ]
    }
   ],
   "source": [
    "# Calculate values\n",
    "N_pred1 = sum(pred1 > pred2)  # Lucky coin wins\n",
    "N_pred2 = sum(pred1 < pred2)  # Random coin wins\n",
    "N       = N_pred1 + N_pred2\n",
    "\n",
    "# Print values\n",
    "print('Pred1 has a better value {} times, while pred2 has a better value {} times.'.format(N_pred1, N_pred2))\n",
    "\n",
    "# N: observations of inequality, p: prob one coin being better, which is 0.5 according to H0\n",
    "b = binom(N, 0.5)\n",
    "\n",
    "# Define plot\n",
    "plt.title ('Distribution according to H0')\n",
    "plt.xlabel('Number of times a pred had a better value than the other')\n",
    "plt.ylabel('Probability')\n",
    "\n",
    "# Make plot\n",
    "plt.plot(b.pmf(range(N+1)), '--o', label='Probability density')\n",
    "plt.plot(b.cdf(range(N+1)), '--o', label='Cumulative distribution')\n",
    "plt.legend()\n",
    "plt.show()\n",
    "\n",
    "# Calculate p-value\n",
    "p_value = b.cdf(min(N_pred1, N_pred2)) + (1-b.cdf(max(N_pred1, N_pred2)-1))\n",
    "\n",
    "# Print p-value\n",
    "print('The p-value is {:.3f}'.format(p_value))"
   ]
  },
  {
   "cell_type": "markdown",
   "metadata": {},
   "source": [
    "## Example two-sided sign test\n",
    "\n",
    "Imagine you have a lucky coin, that you are certain does not result in heads 50% of the times you flip it. However, you friend (lets call him *zero_hypothesis*) claims that your coin is just like his random coin. To verify whether this is true, you decide to compare the performance (you are a scientist after all) of your lucky coin resulting in heads to the performance of the random coin resulting in heads with a sign test. How do you do this?\n",
    "\n",
    "First, you collect data. Assume you both used your coin during 23 bets. During those 23 bets, you both flip your respective coins. It was determined that if one of you flipped head while the other didn't, that person won the bet, and the other person lost. If you both got the same outcome, neither of you won. 1 stands for head, and 0 for tails. These were your results:"
   ]
  },
  {
   "cell_type": "code",
   "execution_count": 13,
   "metadata": {},
   "outputs": [],
   "source": [
    "# Results\n",
    "lucky_coin  = np.array([1,1,1,0,1,1,1,1,1,0,1,1,1,1,0,1,1,0,1,1,1,0,1])\n",
    "random_coin = np.array([0,1,0,1,0,1,0,0,0,1,0,1,0,1,1,1,1,0,0,0,0,0,0])"
   ]
  },
  {
   "cell_type": "markdown",
   "metadata": {},
   "source": [
    "Now you calculate how often in any pair of outcomes one coin *won*, i.e. one coin flipped to head while the other flipped to tails."
   ]
  },
  {
   "cell_type": "code",
   "execution_count": 14,
   "metadata": {},
   "outputs": [
    {
     "name": "stdout",
     "output_type": "stream",
     "text": [
      "The lucky coin won 12 times, while the random won 3 times.\n"
     ]
    }
   ],
   "source": [
    "# Calculate wins\n",
    "N_l = sum((lucky_coin == 1) & (random_coin == 0))  # Lucky coin wins\n",
    "N_r = sum((lucky_coin == 0) & (random_coin == 1))  # Random coin wins\n",
    "N   = N_l + N_r\n",
    "\n",
    "# Print wins\n",
    "print('The lucky coin won {} times, while the random won {} times.'.format(N_l, N_r))"
   ]
  },
  {
   "cell_type": "markdown",
   "metadata": {},
   "source": [
    "You observed 15 times that one coin won. If both coins resulted in heads 50% of the time, like *zero_hypothesis* stated, you'd expect that both coins have 50% chance of being the winner. So the probability distributions for both N_l and N_r should look something like this, assuming that *zero_hypothesis* is right:"
   ]
  },
  {
   "cell_type": "code",
   "execution_count": 15,
   "metadata": {},
   "outputs": [
    {
     "data": {
      "image/png": "[encoded data removed]",
      "text/plain": [
       "<Figure size 432x288 with 1 Axes>"
      ]
     },
     "metadata": {},
     "output_type": "display_data"
    }
   ],
   "source": [
    "# N: observations of inequality, p: prob one coin being better, which is 0.5 according to H0\n",
    "b = binom(N, 0.5)\n",
    "\n",
    "# Define plot\n",
    "plt.title ('Distribution according to H0')\n",
    "plt.xlabel('Number of times one coin is better than the other')\n",
    "plt.ylabel('Probability')\n",
    "\n",
    "# Make plot\n",
    "plt.plot(b.pmf(range(N+1)), '--o', label='Probability density')\n",
    "plt.plot(b.cdf(range(N+1)), '--o', label='Cumulative distribution')\n",
    "plt.legend()\n",
    "plt.show()"
   ]
  },
  {
   "cell_type": "markdown",
   "metadata": {},
   "source": [
    "(Of course this is a discrete probability function, so you're not interested in values between integers.)\n",
    "\n",
    "As you can see, according to *zero_hypothesis*, 7 and 8 are the most likely values for both N_l and N_r. But this is not what you observed in your data. To conclude that *H0* is false, you need to show that your outcome is unlikely under the assumption that *H0* is true: the values you observed are so extreme that these values or more extreme values occur less than 5% of the time (*p-value < 0.05*). So how unlikely is it that one coin is better 12 times or more, and the other is better 3 times or less?\n",
    "\n",
    "It's the sum of the values of the probability density function (pdf or pmf in the python doc) at  0,1,2 and 3, plus the sum of the values of the pdf at 12,13,14 and 15. \n",
    "\n",
    "This is equal to the value of the cumulative distribution function (cdf) at 3, plus 1 minus the value of cdf at 11 (since `1-cdf(11)` represents the probability of observing 12 or bigger)."
   ]
  },
  {
   "cell_type": "code",
   "execution_count": 16,
   "metadata": {},
   "outputs": [
    {
     "name": "stdout",
     "output_type": "stream",
     "text": [
      "The p-value is 0.035\n"
     ]
    }
   ],
   "source": [
    "# Calculate p-value\n",
    "p_value = b.cdf(min(N_r, N_l)) + (1-b.cdf(max(N_r, N_l)-1))\n",
    "\n",
    "# Print p-value\n",
    "print('The p-value is {:.3f}'.format(p_value))"
   ]
  },
  {
   "cell_type": "markdown",
   "metadata": {},
   "source": [
    "So your observations are very unlikely if *zero_hypothesis* is right. By statistical theory, you can now say that you have significant reason to reject their opinion. Now the hardest part of statistics: convincing your non-scientist friends."
   ]
  }
 ],
 "metadata": {
  "anaconda-cloud": {},
  "kernelspec": {
   "display_name": "Python 2",
   "language": "python",
   "name": "python2"
  },
  "language_info": {
   "codemirror_mode": {
    "name": "ipython",
    "version": 2
   },
   "file_extension": ".py",
   "mimetype": "text/x-python",
   "name": "python",
   "nbconvert_exporter": "python",
   "pygments_lexer": "ipython2",
   "version": "2.7.15+"
  }
 },
 "nbformat": 4,
 "nbformat_minor": 1
}
